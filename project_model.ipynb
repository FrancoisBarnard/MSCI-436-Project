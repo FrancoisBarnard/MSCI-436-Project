{
 "cells": [
  {
   "cell_type": "markdown",
   "metadata": {},
   "source": [
    "#### **Note**: This model and its implementation is directly based on the implementation by Avinash Navlani (https://www.datacamp.com/tutorial/streaming-platform-analysis)\n",
    "\n"
   ]
  },
  {
   "cell_type": "code",
   "execution_count": 79,
   "metadata": {},
   "outputs": [],
   "source": [
    "import numpy as np\n",
    "import pandas as pd\n",
    "import matplotlib.pyplot as plt\n",
    "import seaborn as sns\n",
    "from sklearn.feature_extraction.text import TfidfVectorizer\n",
    "from nltk.tokenize import RegexpTokenizer\n",
    "import numpy as np\n",
    "from sklearn import preprocessing\n",
    "from scipy.sparse import hstack\n",
    "import pandas_profiling\n",
    "import re\n"
   ]
  },
  {
   "cell_type": "code",
   "execution_count": 127,
   "metadata": {},
   "outputs": [],
   "source": [
    "# Get movie streaming data\n",
    "df = pd.read_csv(\"data/MoviesOnStreamingPlatforms.csv\")\n",
    "# remove unnamed index column\n",
    "df = df.iloc[:, 1:]\n",
    "# Make all columns lowercase for consistency across datasets\n",
    "df.columns = [x.lower() for x in df.columns]\n",
    "\n",
    "# Get ratings data\n",
    "data = pd.io.parsers.read_csv(\"data/ratings.dat\",\n",
    "                              names=[\"user_id\", \"movie_id\",\n",
    "                                     \"rating\", \"time\"],\n",
    "                              engine=\"python\",\n",
    "                              delimiter=\"::\")\n",
    "\n",
    "movie_data = pd.io.parsers.read_csv(\"data/movies.dat\",\n",
    "                                    names=[\"movie_id\", \"title\", \"genre\"],\n",
    "                                    engine=\"python\",\n",
    "                                    delimiter=\"::\")\n",
    "\n",
    "# Fix a title formatting issue that is found within the dataset\n",
    "\"\"\"\n",
    "Titles with the word \"the\" at the start were displayed at the end. If the movie\n",
    "was named \"The horse (2000)\" it would be displayed as \"horse, The (2000)\"\n",
    "\"\"\"\n",
    "movie_data.title = np.where(\n",
    "    movie_data.title.str.contains(\", The\"),\n",
    "    \"The \" + movie_data.title.str.replace(\", The\", \"\"),\n",
    "    movie_data.title)\n"
   ]
  },
  {
   "cell_type": "code",
   "execution_count": 128,
   "metadata": {},
   "outputs": [
    {
     "data": {
      "text/html": [
       "<div>\n",
       "<style scoped>\n",
       "    .dataframe tbody tr th:only-of-type {\n",
       "        vertical-align: middle;\n",
       "    }\n",
       "\n",
       "    .dataframe tbody tr th {\n",
       "        vertical-align: top;\n",
       "    }\n",
       "\n",
       "    .dataframe thead th {\n",
       "        text-align: right;\n",
       "    }\n",
       "</style>\n",
       "<table border=\"1\" class=\"dataframe\">\n",
       "  <thead>\n",
       "    <tr style=\"text-align: right;\">\n",
       "      <th></th>\n",
       "      <th>id</th>\n",
       "      <th>title</th>\n",
       "      <th>age</th>\n",
       "      <th>rotten tomatoes</th>\n",
       "      <th>netflix</th>\n",
       "      <th>hulu</th>\n",
       "      <th>prime video</th>\n",
       "      <th>disney+</th>\n",
       "      <th>type</th>\n",
       "      <th>inDatabase?</th>\n",
       "    </tr>\n",
       "  </thead>\n",
       "  <tbody>\n",
       "    <tr>\n",
       "      <th>0</th>\n",
       "      <td>1</td>\n",
       "      <td>The Irishman (2019)</td>\n",
       "      <td>18+</td>\n",
       "      <td>98/100</td>\n",
       "      <td>1</td>\n",
       "      <td>0</td>\n",
       "      <td>0</td>\n",
       "      <td>0</td>\n",
       "      <td>0</td>\n",
       "      <td>0</td>\n",
       "    </tr>\n",
       "    <tr>\n",
       "      <th>1</th>\n",
       "      <td>2</td>\n",
       "      <td>Dangal (2016)</td>\n",
       "      <td>7+</td>\n",
       "      <td>97/100</td>\n",
       "      <td>1</td>\n",
       "      <td>0</td>\n",
       "      <td>0</td>\n",
       "      <td>0</td>\n",
       "      <td>0</td>\n",
       "      <td>0</td>\n",
       "    </tr>\n",
       "    <tr>\n",
       "      <th>2</th>\n",
       "      <td>3</td>\n",
       "      <td>David Attenborough: A Life on Our Planet (2020)</td>\n",
       "      <td>7+</td>\n",
       "      <td>95/100</td>\n",
       "      <td>1</td>\n",
       "      <td>0</td>\n",
       "      <td>0</td>\n",
       "      <td>0</td>\n",
       "      <td>0</td>\n",
       "      <td>0</td>\n",
       "    </tr>\n",
       "    <tr>\n",
       "      <th>3</th>\n",
       "      <td>4</td>\n",
       "      <td>Lagaan: Once Upon a Time in India (2001)</td>\n",
       "      <td>7+</td>\n",
       "      <td>94/100</td>\n",
       "      <td>1</td>\n",
       "      <td>0</td>\n",
       "      <td>0</td>\n",
       "      <td>0</td>\n",
       "      <td>0</td>\n",
       "      <td>0</td>\n",
       "    </tr>\n",
       "    <tr>\n",
       "      <th>4</th>\n",
       "      <td>5</td>\n",
       "      <td>Roma (2018)</td>\n",
       "      <td>18+</td>\n",
       "      <td>94/100</td>\n",
       "      <td>1</td>\n",
       "      <td>0</td>\n",
       "      <td>0</td>\n",
       "      <td>0</td>\n",
       "      <td>0</td>\n",
       "      <td>0</td>\n",
       "    </tr>\n",
       "  </tbody>\n",
       "</table>\n",
       "</div>"
      ],
      "text/plain": [
       "   id                                            title  age rotten tomatoes  \\\n",
       "0   1                              The Irishman (2019)  18+          98/100   \n",
       "1   2                                    Dangal (2016)   7+          97/100   \n",
       "2   3  David Attenborough: A Life on Our Planet (2020)   7+          95/100   \n",
       "3   4         Lagaan: Once Upon a Time in India (2001)   7+          94/100   \n",
       "4   5                                      Roma (2018)  18+          94/100   \n",
       "\n",
       "   netflix  hulu  prime video  disney+  type  inDatabase?  \n",
       "0        1     0            0        0     0            0  \n",
       "1        1     0            0        0     0            0  \n",
       "2        1     0            0        0     0            0  \n",
       "3        1     0            0        0     0            0  \n",
       "4        1     0            0        0     0            0  "
      ]
     },
     "execution_count": 128,
     "metadata": {},
     "output_type": "execute_result"
    }
   ],
   "source": [
    "# Combine title with year for consistency\n",
    "df[\"title\"] = df[\"title\"] + \" (\" + df[\"year\"].astype(str) + \")\"\n",
    "\n",
    "# Remove \"year\" column\n",
    "df.drop(\"year\", axis=1, inplace=True)\n",
    "\n",
    "df[\"inDatabase?\"] = np.where(df.title.str == movie_data.title.str, 1, 0)\n",
    "df.head()"
   ]
  },
  {
   "cell_type": "code",
   "execution_count": null,
   "metadata": {},
   "outputs": [],
   "source": [
    "# Creating a rating matrix with rows as movies and columns as users\n",
    "ratings_mat = np.ndarray(\n",
    "    shape=(int(np.max(data.movie_id.values)), int(np.max(data.user_id.values))),\n",
    "    dtype=np.uint8)\n",
    "ratings_mat[data.movie_id.values-1, data.user_id.values-1] = data.rating.values\n"
   ]
  },
  {
   "cell_type": "code",
   "execution_count": null,
   "metadata": {},
   "outputs": [],
   "source": [
    "# Normalize the matrix\n",
    "normalised_mat = ratings_mat - np.asarray([(np.mean(ratings_mat, 1))]).T\n"
   ]
  },
  {
   "cell_type": "code",
   "execution_count": null,
   "metadata": {},
   "outputs": [],
   "source": [
    "# Compute the Singular Value Decommposition (SVD)\n",
    "A = normalised_mat.T / np.sqrt(ratings_mat.shape[0] - 1)\n",
    "U, S, V = np.linalg.svd(A)\n"
   ]
  },
  {
   "cell_type": "code",
   "execution_count": null,
   "metadata": {},
   "outputs": [],
   "source": [
    "# Define a function to calculate the cosine similarity. Sort by most similar and return the top N results\n",
    "def top_cosine_similarity(data, movie_id, top_n=10):\n",
    "    # Movie id starts from 1 in the dataset\n",
    "    index = movie_id - 1\n",
    "    movie_row = data[index, :]\n",
    "    magnitude = np.sqrt(np.einsum('ij, ij -> i', data, data))\n",
    "    similarity = np.dot(movie_row, data.T) / (magnitude[index] * magnitude)\n",
    "    sort_indexes = np.argsort(-similarity)\n",
    "    return sort_indexes[:top_n]\n"
   ]
  },
  {
   "cell_type": "code",
   "execution_count": null,
   "metadata": {},
   "outputs": [],
   "source": [
    "# Define a function to print top N similar movies\n",
    "def print_similar_movies(movie_data, movie_id, top_indexes):\n",
    "    print('Recommendations for {0}: \\n'.format(\n",
    "        movie_data[movie_data.movie_id == movie_id].title.values[0]))\n",
    "    for id in top_indexes + 1:\n",
    "        print(movie_data[movie_data.movie_id == id].title.values[0])\n"
   ]
  },
  {
   "cell_type": "code",
   "execution_count": null,
   "metadata": {},
   "outputs": [
    {
     "name": "stderr",
     "output_type": "stream",
     "text": [
      "<ipython-input-41-34597bb378d9>:6: RuntimeWarning: invalid value encountered in true_divide\n",
      "  similarity = np.dot(movie_row, data.T) / (magnitude[index] * magnitude)\n"
     ]
    }
   ],
   "source": [
    "# Initialize the value of k principal components, id of the move as given in the dataset, and number of top elements to be printed.\n",
    "k = 50\n",
    "# Get an id from movies.dat\n",
    "movie_id = 11\n",
    "top_n = 10\n",
    "# Representative data\n",
    "sliced = V.T[:, :k]\n",
    "indexes = top_cosine_similarity(sliced, movie_id, top_n)\n"
   ]
  },
  {
   "cell_type": "code",
   "execution_count": null,
   "metadata": {},
   "outputs": [
    {
     "name": "stdout",
     "output_type": "stream",
     "text": [
      "Recommendations for American President, The (1995): \n",
      "\n",
      "American President, The (1995)\n",
      "Dave (1993)\n",
      "While You Were Sleeping (1995)\n",
      "Notting Hill (1999)\n",
      "Sleepless in Seattle (1993)\n",
      "Phenomenon (1996)\n",
      "Pretty Woman (1990)\n",
      "Sabrina (1995)\n",
      "Bridges of Madison County, The (1995)\n",
      "Speechless (1994)\n"
     ]
    }
   ],
   "source": [
    "print_similar_movies(movie_data, movie_id, indexes)"
   ]
  },
  {
   "cell_type": "code",
   "execution_count": null,
   "metadata": {},
   "outputs": [],
   "source": []
  },
  {
   "cell_type": "code",
   "execution_count": null,
   "metadata": {},
   "outputs": [],
   "source": [
    "# Remove missing values from streaming platform dataset\n",
    "\"\"\" \n",
    "Note: In his tutorial Navlani drops all NA and drops any column(s) which have\n",
    "more than 50% missing values. We chose to mimic this as this model is based\n",
    "off of his model and implementation\n",
    "\"\"\"\n",
    "# Dropping values with missing % more than 50%\n",
    "df.drop(['Rotten Tomatoes', 'Age'], axis=1, inplace=True)\n",
    "# Dropping Na's from the following columns\n",
    "df.dropna(\n",
    "    subset=['Directors', 'Genres', 'Country', 'Language', 'Runtime'],\n",
    "    inplace=True)\n",
    "df.reset_index(inplace=True,drop=True)\n",
    "# Converting into object type\n",
    "df.Year = df.Year.astype(\"object\")"
   ]
  },
  {
   "cell_type": "markdown",
   "metadata": {},
   "source": [
    "#### References\n",
    "\n",
    "Recommendation System for Streaming Platforms Tutorial. (n.d.). Www.datacamp.com. Retrieved June 27, 2022, from https://www.datacamp.com/tutorial/streaming-platform-analysis\n",
    "\n",
    "\n",
    "Movies on Netflix, Prime Video, Hulu and Disney+. (n.d.). Www.kaggle.com. Retrieved June 27, 2022, from https://www.kaggle.com/datasets/ruchi798/movies-on-netflix-prime-video-hulu-and-disney\n",
    "\n",
    "\n",
    "https://grouplens.org/datasets/movielens/1m/"
   ]
  }
 ],
 "metadata": {
  "kernelspec": {
   "display_name": "Python 3.8.8 ('base')",
   "language": "python",
   "name": "python3"
  },
  "language_info": {
   "codemirror_mode": {
    "name": "ipython",
    "version": 3
   },
   "file_extension": ".py",
   "mimetype": "text/x-python",
   "name": "python",
   "nbconvert_exporter": "python",
   "pygments_lexer": "ipython3",
   "version": "3.8.8"
  },
  "orig_nbformat": 4,
  "vscode": {
   "interpreter": {
    "hash": "ad2bdc8ecc057115af97d19610ffacc2b4e99fae6737bb82f5d7fb13d2f2c186"
   }
  }
 },
 "nbformat": 4,
 "nbformat_minor": 2
}
